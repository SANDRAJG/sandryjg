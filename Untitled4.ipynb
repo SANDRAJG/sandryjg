{
 "cells": [
  {
   "cell_type": "code",
   "execution_count": 7,
   "metadata": {},
   "outputs": [],
   "source": [
    "def isPrime(num):\n",
    "    #while True:\n",
    "    num = input (\"Ingrese el numero: \")\n",
    "    num = int(num)\n",
    "    contador = 0\n",
    "    for i in range(1,20):\n",
    "        \n",
    "    #% para obtener el residuo\n",
    "        if (num% i)==0:\n",
    "            contador = contador + 1\n",
    "            \n",
    "            if contador >= 3:\n",
    "                print (\"el numero es primo\")\n",
    "                break   \n",
    "        #verificar=True\n",
    "       #if contador==2 or verificar==False:\n",
    "#    print \"el numero es primo\"\n",
    "#else: print \"el numero no es primo\"\n",
    "#    if isPrime(i + 1):\n",
    "#    print(i + 1, end=\" \")\n",
    "#print()\n",
    "    \n",
    "#\n",
    "\n",
    "#for i in range(1, 20):\n",
    "#    if isPrime(i + 1):\n",
    "#    print(i + 1, end=\" \")\n",
    "#print()\n"
   ]
  },
  {
   "cell_type": "code",
   "execution_count": 12,
   "metadata": {},
   "outputs": [
    {
     "name": "stdout",
     "output_type": "stream",
     "text": [
      "5 7 9 11 13 15 17 19 "
     ]
    }
   ],
   "source": [
    "def isPrime(n):\n",
    "    for i in range(2,int(n**0.5)+1):\n",
    "        if n%i == 0:\n",
    "            return False\n",
    "        return True\n",
    "for i in range(1,20):\n",
    "    if isPrime(i + 1):\n",
    "        print(i + 1,end = \" \")"
   ]
  },
  {
   "cell_type": "code",
   "execution_count": null,
   "metadata": {},
   "outputs": [],
   "source": []
  }
 ],
 "metadata": {
  "kernelspec": {
   "display_name": "Python 3",
   "language": "python",
   "name": "python3"
  },
  "language_info": {
   "codemirror_mode": {
    "name": "ipython",
    "version": 3
   },
   "file_extension": ".py",
   "mimetype": "text/x-python",
   "name": "python",
   "nbconvert_exporter": "python",
   "pygments_lexer": "ipython3",
   "version": "3.7.4"
  }
 },
 "nbformat": 4,
 "nbformat_minor": 2
}
