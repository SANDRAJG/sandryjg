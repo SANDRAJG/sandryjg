{
 "cells": [
  {
   "cell_type": "code",
   "execution_count": null,
   "metadata": {},
   "outputs": [
    {
     "name": "stdout",
     "output_type": "stream",
     "text": [
      "Enter a number from -10 to 10:-12\n",
      "The value is not within permitted range (-10..10)\n",
      "Enter a number from -10 to 10:12\n",
      "The value is not within permitted range (-10..10)\n",
      "Enter a number from -10 to 10:l\n",
      "Wrong input\n"
     ]
    }
   ],
   "source": [
    "def validarNumero(prompt, min, max):\n",
    "    while (True):\n",
    "        try:\n",
    "            x = int(input(prompt))\n",
    "            assert x >= min and x <= max\n",
    "            return x\n",
    "            break\n",
    "        except ValueError:\n",
    "            print(\"Wrong input\")\n",
    "        except:\n",
    "            print(\"The value is not within permitted range (-10..10)\")\n",
    "    \n",
    "v = validarNumero(\"Enter a number from -10 to 10:\", -10, 10)\n",
    "\n",
    "print(\"The number is:\", v)"
   ]
  },
  {
   "cell_type": "code",
   "execution_count": null,
   "metadata": {},
   "outputs": [],
   "source": []
  },
  {
   "cell_type": "code",
   "execution_count": null,
   "metadata": {},
   "outputs": [],
   "source": []
  }
 ],
 "metadata": {
  "kernelspec": {
   "display_name": "Python 3",
   "language": "python",
   "name": "python3"
  },
  "language_info": {
   "codemirror_mode": {
    "name": "ipython",
    "version": 3
   },
   "file_extension": ".py",
   "mimetype": "text/x-python",
   "name": "python",
   "nbconvert_exporter": "python",
   "pygments_lexer": "ipython3",
   "version": "3.7.4"
  }
 },
 "nbformat": 4,
 "nbformat_minor": 2
}
