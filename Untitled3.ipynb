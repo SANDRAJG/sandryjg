{
 "cells": [
  {
   "cell_type": "code",
   "execution_count": 1,
   "metadata": {},
   "outputs": [
    {
     "name": "stdout",
     "output_type": "stream",
     "text": [
      "What is the IPv4 ACL number?99\n",
      "This is a standard IPv4 ACL.\n"
     ]
    }
   ],
   "source": [
    "aclNum = int(input(\"What is the IPv4 ACL number?\"))\n",
    "if aclNum >= 1 and aclNum >=99 :\n",
    "    print(\"This is a standard IPv4 ACL.\")\n",
    "elif aclNum >= 100 and aclNum >= 199:\n",
    "     print(\"This is a extended IPv4 ACL.\")\n",
    "else:\n",
    "     print(\"This is not a standard or extended IPv4 ACL.\")"
   ]
  },
  {
   "cell_type": "code",
   "execution_count": 2,
   "metadata": {},
   "outputs": [
    {
     "name": "stdout",
     "output_type": "stream",
     "text": [
      "R1\n",
      "R2\n",
      "R3\n",
      "S1\n",
      "S2\n"
     ]
    }
   ],
   "source": [
    "devices =  [\"R1\",\"R2\",\"R3\",\"S1\",\"S2\"]\n",
    "for item in devices:\n",
    "    print(item)"
   ]
  },
  {
   "cell_type": "code",
   "execution_count": null,
   "metadata": {},
   "outputs": [],
   "source": []
  }
 ],
 "metadata": {
  "kernelspec": {
   "display_name": "Python 3",
   "language": "python",
   "name": "python3"
  },
  "language_info": {
   "codemirror_mode": {
    "name": "ipython",
    "version": 3
   },
   "file_extension": ".py",
   "mimetype": "text/x-python",
   "name": "python",
   "nbconvert_exporter": "python",
   "pygments_lexer": "ipython3",
   "version": "3.7.4"
  }
 },
 "nbformat": 4,
 "nbformat_minor": 2
}
