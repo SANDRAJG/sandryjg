{
 "cells": [
  {
   "cell_type": "code",
   "execution_count": 7,
   "metadata": {},
   "outputs": [],
   "source": [
    "def isPrime(num):\n",
    "    num = int(num)\n",
    "    contador = 0\n",
    "      \n",
    "    #% para obtener el residuo\n",
    "        if (num% i)==0:\n",
    "            contador = contador + 1\n",
    "            \n",
    "            if contador >= 3:\n",
    "                print (\"el numero es primo\")\n",
    "                break   \n",
    "                verificar=True\n",
    "numero_leido = raw_input(\"inserta un numero >> \")\n",
    "numero = int(numero_leido)\n",
    "contador = 0\n",
    "verificar= False\n",
    "for i in range(1,numero+1):\n",
    "    if (numero% i)==0:\n",
    "       contador = contador + 1\n",
    "    if contador >= 3:\n",
    "        verificar=True\n",
    "        break\n",
    "\n",
    "if contador==2 or verificar==False:\n",
    "    print \"el numero es primo\"\n",
    "else: print \"el numero no es primo\""
   ]
  },
  {
   "cell_type": "code",
   "execution_count": 13,
   "metadata": {},
   "outputs": [
    {
     "name": "stdout",
     "output_type": "stream",
     "text": [
      "5 7 9 11 13 15 17 19 21 23 25 27 29 31 33 35 37 39 41 43 45 47 49 "
     ]
    }
   ],
   "source": [
    "def isPrime(n):\n",
    "    for i in range(2,int(n**0.5)+1):\n",
    "        if n%i == 0:\n",
    "            return False\n",
    "        return True\n",
    "for j in range(1,50):\n",
    "    if isPrime(j + 1):\n",
    "        print(j + 1,end = \" \")"
   ]
  },
  {
   "cell_type": "code",
   "execution_count": 22,
   "metadata": {},
   "outputs": [
    {
     "name": "stdout",
     "output_type": "stream",
     "text": [
      "2 3 5 7 11 13 17 19 \n"
     ]
    }
   ],
   "source": [
    "def isPrime(x):\n",
    "    if x < 2:\n",
    "        return False\n",
    "    elif x == 2:\n",
    "        return True\n",
    "    for i in range(2,x):\n",
    "        if x % i == 0:\n",
    "            return False\n",
    "    return True\n",
    "for j in range(1,20):\n",
    "    if isPrime(j + 1):\n",
    "        print(j + 1,end = \" \")\n",
    "print()\n",
    "    "
   ]
  },
  {
   "cell_type": "code",
   "execution_count": 24,
   "metadata": {},
   "outputs": [
    {
     "name": "stdout",
     "output_type": "stream",
     "text": [
      "1900 ->OK\n",
      "2000 ->OK\n",
      "2016 ->OK\n",
      "1987 ->OK\n",
      "2001 ->Failed\n"
     ]
    }
   ],
   "source": [
    "def isYearLeap(year):\n",
    "    if year%4 == 0 and year%100 != 0 or year%400 == 0:\n",
    "        return True\n",
    "    else:\n",
    "        return False\n",
    "\n",
    "testData = [1900, 2000, 2016, 1987,2001]\n",
    "testResults = [False, True, True, False, True]\n",
    "for i in range(len(testData)):\n",
    "    yr = testData[i]\n",
    "    print(yr,\"->\",end=\"\")\n",
    "    result = isYearLeap(yr)\n",
    "    if result == testResults[i]:\n",
    "        print(\"OK\")\n",
    "    else:\n",
    "   \n",
    "        print(\"Failed\")\n"
   ]
  },
  {
   "cell_type": "code",
   "execution_count": 27,
   "metadata": {},
   "outputs": [
    {
     "name": "stdout",
     "output_type": "stream",
     "text": [
      "True\n",
      "1900 ->OK\n",
      "2000 ->OK\n",
      "2016 ->OK\n",
      "1987 ->OK\n",
      "2001 ->Failed\n"
     ]
    }
   ],
   "source": [
    "def isYearLeap(year):\n",
    "    if year % 4 != 0:\n",
    "        return False\n",
    "    elif year % 100 != 0:\n",
    "        return True\n",
    "    elif  year % 400 != 0:\n",
    "        return False\n",
    "    else:\n",
    "        return True\n",
    "testData = [1900, 2000, 2016, 1987,2001]\n",
    "testResults = [False, True, True, False, True]\n",
    "print(isYearLeap(2020))\n",
    "for i in range(len(testData)):\n",
    "    yr = testData[i]\n",
    "    print(yr,\"->\",end=\"\")\n",
    "    result = isYearLeap(yr)\n",
    "    if result == testResults[i]:\n",
    "        print(\"OK\")\n",
    "    else:\n",
    "   \n",
    "        print(\"Failed\")\n",
    "    "
   ]
  },
  {
   "cell_type": "code",
   "execution_count": null,
   "metadata": {},
   "outputs": [],
   "source": [
    "def isYearLeap(year):\n",
    "    if year % 4 != 0:\n",
    "        return False\n",
    "    elif year % 100 != 0:\n",
    "        return True\n",
    "    elif  year % 400 != 0:\n",
    "        return False\n",
    "    else:\n",
    "        return True\n",
    "\n",
    "def daysInMonth(year, month):\n",
    "    dias = int(dias)\n",
    "    if isYearLeap(year):\n",
    "        if month == 2:\n",
    "            dias == 29\n",
    "       \n",
    "    else:\n",
    "         dias == 28\n",
    "            \n",
    "        \n",
    "        \n",
    "            \n",
    "                    \n",
    "            \n",
    "            \n",
    "        \n",
    "\n",
    "    \n",
    "\n",
    "testYears = [1900, 2000, 2016, 1987]\n",
    "testMonths = [2, 2, 1, 11]\n",
    "testResults = [28, 29, 31, 30]\n",
    "for i in range(len(testYears)):\n",
    "\tyr = testYears[i]\n",
    "\tmo = testMonths[i]\n",
    "\tprint(yr, mo, \"->\", end=\"\")\n",
    "\tresult = daysInMonth(yr, mo)\n",
    "\tif result == testResults[i]:\n",
    "\t\tprint(\"OK\")\n",
    "\telse:\n",
    "\t\tprint(\"Failed\")\n"
   ]
  }
 ],
 "metadata": {
  "kernelspec": {
   "display_name": "Python 3",
   "language": "python",
   "name": "python3"
  },
  "language_info": {
   "codemirror_mode": {
    "name": "ipython",
    "version": 3
   },
   "file_extension": ".py",
   "mimetype": "text/x-python",
   "name": "python",
   "nbconvert_exporter": "python",
   "pygments_lexer": "ipython3",
   "version": "3.7.4"
  }
 },
 "nbformat": 4,
 "nbformat_minor": 2
}
